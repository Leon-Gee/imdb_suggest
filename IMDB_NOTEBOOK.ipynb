{
 "cells": [
  {
   "cell_type": "code",
   "execution_count": 5,
   "id": "152ad534",
   "metadata": {},
   "outputs": [],
   "source": [
    "#libs\n",
    "import pandas as pd\n",
    "import numpy as np\n",
    "from sklearn.metrics.pairwise import cosine_similarity\n",
    "from sklearn.feature_extraction.text import CountVectorizer\n"
   ]
  },
  {
   "cell_type": "code",
   "execution_count": 69,
   "id": "bb4853c6",
   "metadata": {},
   "outputs": [],
   "source": [
    "#loading the data + adding an id\n",
    "movies_df = pd.read_csv(\"../IMDB-Movie-Data.csv\")\n",
    "movies_df['Movie_id'] = range(0,1000)\n",
    "\n",
    "#removing blank spaces in the column\n",
    "movies_df.columns=[i.split()[0]+\"_\"+i.split()[1]  if len(i.split())>1 else i for i in movies_df.columns]\n",
    "\n",
    "# and remove paranthesis\n",
    "movies_df=movies_df.rename(columns = {'Revenue_(Millions)':'Revenue_Millions'})\n",
    "movies_df=movies_df.rename(columns = {'Runtime_(Minutes)':'Runtime_Minutes'})\n",
    "\n"
   ]
  },
  {
   "cell_type": "code",
   "execution_count": 59,
   "id": "dfb8d8bb",
   "metadata": {},
   "outputs": [
    {
     "data": {
      "text/plain": [
       "(1000, 13)"
      ]
     },
     "execution_count": 59,
     "metadata": {},
     "output_type": "execute_result"
    }
   ],
   "source": [
    "movies_df.shape"
   ]
  },
  {
   "cell_type": "code",
   "execution_count": 65,
   "id": "684a5938",
   "metadata": {},
   "outputs": [],
   "source": [
    "#This are the important columns for the model im aiming to use\n",
    "columns = ['Title', 'Genre', 'Director',  'Actors']"
   ]
  },
  {
   "cell_type": "code",
   "execution_count": 67,
   "id": "d70ad474",
   "metadata": {},
   "outputs": [
    {
     "data": {
      "text/html": [
       "<div>\n",
       "<style scoped>\n",
       "    .dataframe tbody tr th:only-of-type {\n",
       "        vertical-align: middle;\n",
       "    }\n",
       "\n",
       "    .dataframe tbody tr th {\n",
       "        vertical-align: top;\n",
       "    }\n",
       "\n",
       "    .dataframe thead th {\n",
       "        text-align: right;\n",
       "    }\n",
       "</style>\n",
       "<table border=\"1\" class=\"dataframe\">\n",
       "  <thead>\n",
       "    <tr style=\"text-align: right;\">\n",
       "      <th></th>\n",
       "      <th>Title</th>\n",
       "      <th>Genre</th>\n",
       "      <th>Director</th>\n",
       "      <th>Actors</th>\n",
       "    </tr>\n",
       "  </thead>\n",
       "  <tbody>\n",
       "    <tr>\n",
       "      <th>0</th>\n",
       "      <td>Guardians of the Galaxy</td>\n",
       "      <td>Action,Adventure,Sci-Fi</td>\n",
       "      <td>James Gunn</td>\n",
       "      <td>Chris Pratt, Vin Diesel, Bradley Cooper, Zoe S...</td>\n",
       "    </tr>\n",
       "    <tr>\n",
       "      <th>1</th>\n",
       "      <td>Prometheus</td>\n",
       "      <td>Adventure,Mystery,Sci-Fi</td>\n",
       "      <td>Ridley Scott</td>\n",
       "      <td>Noomi Rapace, Logan Marshall-Green, Michael Fa...</td>\n",
       "    </tr>\n",
       "    <tr>\n",
       "      <th>2</th>\n",
       "      <td>Split</td>\n",
       "      <td>Horror,Thriller</td>\n",
       "      <td>M. Night Shyamalan</td>\n",
       "      <td>James McAvoy, Anya Taylor-Joy, Haley Lu Richar...</td>\n",
       "    </tr>\n",
       "    <tr>\n",
       "      <th>3</th>\n",
       "      <td>Sing</td>\n",
       "      <td>Animation,Comedy,Family</td>\n",
       "      <td>Christophe Lourdelet</td>\n",
       "      <td>Matthew McConaughey,Reese Witherspoon, Seth Ma...</td>\n",
       "    </tr>\n",
       "    <tr>\n",
       "      <th>4</th>\n",
       "      <td>Suicide Squad</td>\n",
       "      <td>Action,Adventure,Fantasy</td>\n",
       "      <td>David Ayer</td>\n",
       "      <td>Will Smith, Jared Leto, Margot Robbie, Viola D...</td>\n",
       "    </tr>\n",
       "  </tbody>\n",
       "</table>\n",
       "</div>"
      ],
      "text/plain": [
       "                     Title                     Genre              Director  \\\n",
       "0  Guardians of the Galaxy   Action,Adventure,Sci-Fi            James Gunn   \n",
       "1               Prometheus  Adventure,Mystery,Sci-Fi          Ridley Scott   \n",
       "2                    Split           Horror,Thriller    M. Night Shyamalan   \n",
       "3                     Sing   Animation,Comedy,Family  Christophe Lourdelet   \n",
       "4            Suicide Squad  Action,Adventure,Fantasy            David Ayer   \n",
       "\n",
       "                                              Actors  \n",
       "0  Chris Pratt, Vin Diesel, Bradley Cooper, Zoe S...  \n",
       "1  Noomi Rapace, Logan Marshall-Green, Michael Fa...  \n",
       "2  James McAvoy, Anya Taylor-Joy, Haley Lu Richar...  \n",
       "3  Matthew McConaughey,Reese Witherspoon, Seth Ma...  \n",
       "4  Will Smith, Jared Leto, Margot Robbie, Viola D...  "
      ]
     },
     "execution_count": 67,
     "metadata": {},
     "output_type": "execute_result"
    }
   ],
   "source": [
    "movies_df[columns].head(5)\n"
   ]
  },
  {
   "cell_type": "code",
   "execution_count": 70,
   "id": "e4909d2c",
   "metadata": {},
   "outputs": [
    {
     "data": {
      "text/plain": [
       "False"
      ]
     },
     "execution_count": 70,
     "metadata": {},
     "output_type": "execute_result"
    }
   ],
   "source": [
    "#now, its important that we dont have a null value in this columns since we are inserting them into our model. (thats why \n",
    "# it takes so long to clean data hehe)\n",
    "\n",
    "#Now, by doing this search, if we have any null value we should get a True value, anything else, means we are good to go\n",
    "df[columns].isnull().values.any()"
   ]
  },
  {
   "cell_type": "code",
   "execution_count": null,
   "id": "9874e1f0",
   "metadata": {},
   "outputs": [],
   "source": [
    "#Now, we need a function to combine our values into a single string\n",
    "def get_important_data(data):\n",
    "    important_data[]\n",
    "    for i in range(0, data.shape[0]):\n",
    "        important_data.append(data['Title'][i]+' '+data['Genre'][i]+' '+data['Director'][i]+' '+data['Actors'][i])"
   ]
  }
 ],
 "metadata": {
  "kernelspec": {
   "display_name": "Python 3 (ipykernel)",
   "language": "python",
   "name": "python3"
  },
  "language_info": {
   "codemirror_mode": {
    "name": "ipython",
    "version": 3
   },
   "file_extension": ".py",
   "mimetype": "text/x-python",
   "name": "python",
   "nbconvert_exporter": "python",
   "pygments_lexer": "ipython3",
   "version": "3.8.11"
  }
 },
 "nbformat": 4,
 "nbformat_minor": 5
}
